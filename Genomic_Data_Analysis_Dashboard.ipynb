{
  "nbformat": 4,
  "nbformat_minor": 0,
  "metadata": {
    "colab": {
      "provenance": [],
      "authorship_tag": "ABX9TyPnBOZd4BUgLGGvTxMjKWLs",
      "include_colab_link": true
    },
    "kernelspec": {
      "name": "python3",
      "display_name": "Python 3"
    },
    "language_info": {
      "name": "python"
    }
  },
  "cells": [
    {
      "cell_type": "markdown",
      "metadata": {
        "id": "view-in-github",
        "colab_type": "text"
      },
      "source": [
        "<a href=\"https://colab.research.google.com/github/krshrey10/Genomic-Data-Analysis-Dashboard/blob/main/Genomic_Data_Analysis_Dashboard.ipynb\" target=\"_parent\"><img src=\"https://colab.research.google.com/assets/colab-badge.svg\" alt=\"Open In Colab\"/></a>"
      ]
    },
    {
      "cell_type": "markdown",
      "source": [
        "# **Genomic Data Analysis Dashboard**"
      ],
      "metadata": {
        "id": "ouHhjUDlRff5"
      }
    },
    {
      "cell_type": "markdown",
      "source": [
        "# **1. Data Collection**\n",
        "\n",
        "---\n",
        "\n"
      ],
      "metadata": {
        "id": "BOY5V34sQH3o"
      }
    },
    {
      "cell_type": "code",
      "execution_count": 1,
      "metadata": {
        "id": "GOgAixzWQAKI"
      },
      "outputs": [],
      "source": [
        "import pandas as pd\n",
        "df = pd.read_csv(\"/content/Breast_Cancer.csv\")"
      ]
    },
    {
      "cell_type": "markdown",
      "source": [
        "# **2. Data Preprocessing**\n",
        "\n",
        "---\n",
        "\n"
      ],
      "metadata": {
        "id": "ApPEGHQdQSu2"
      }
    },
    {
      "cell_type": "code",
      "source": [
        "import numpy as np\n",
        "df_normalized = np.log2(df.drop(columns=['Unnamed: 32']).select_dtypes(include=np.number).iloc[:, 1:] + 1)"
      ],
      "metadata": {
        "id": "xG2flJIVQV1S"
      },
      "execution_count": 6,
      "outputs": []
    },
    {
      "cell_type": "markdown",
      "source": [
        "# **3. Clustering (K-Means or Hierarchical)**\n",
        "\n",
        "---\n",
        "\n"
      ],
      "metadata": {
        "id": "PVCV1hJMQdXA"
      }
    },
    {
      "cell_type": "code",
      "source": [
        "from sklearn.cluster import KMeans\n",
        "from sklearn.impute import SimpleImputer\n",
        "\n",
        "imputer = SimpleImputer(strategy='mean')\n",
        "df_imputed = imputer.fit_transform(df_normalized)\n",
        "\n",
        "kmeans = KMeans(n_clusters=5, random_state=42, n_init=10).fit(df_imputed)\n",
        "df['Cluster'] = kmeans.labels_"
      ],
      "metadata": {
        "id": "xuM3HXYcQgzA"
      },
      "execution_count": 7,
      "outputs": []
    },
    {
      "cell_type": "markdown",
      "source": [
        "# **4. Export Data for Power BI**\n",
        "\n",
        "---\n",
        "\n"
      ],
      "metadata": {
        "id": "BjYPoeX8RANp"
      }
    },
    {
      "cell_type": "code",
      "source": [
        "df.to_csv(\"breast_cancer_info.csv\", index=False)"
      ],
      "metadata": {
        "id": "sx5DC4BFRA2Q"
      },
      "execution_count": 8,
      "outputs": []
    }
  ]
}